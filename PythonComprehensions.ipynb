{
 "cells": [
  {
   "cell_type": "code",
   "execution_count": 8,
   "metadata": {},
   "outputs": [
    {
     "name": "stdout",
     "output_type": "stream",
     "text": [
      "[1, 2, 3, 4]\n"
     ]
    }
   ],
   "source": [
    "listCph1 = [x for x in range(1,5)]\n",
    "\n",
    "print(listCph1)"
   ]
  },
  {
   "cell_type": "code",
   "execution_count": 11,
   "metadata": {},
   "outputs": [
    {
     "name": "stdout",
     "output_type": "stream",
     "text": [
      "[1, 36, 121]\n"
     ]
    }
   ],
   "source": [
    "listCph2 = [iter ** 2 for iter in range(1,15,5)]\n",
    "\n",
    "print(listCph2)"
   ]
  },
  {
   "cell_type": "code",
   "execution_count": 6,
   "metadata": {},
   "outputs": [
    {
     "name": "stdout",
     "output_type": "stream",
     "text": [
      "[25, 64, 121, 196]\n"
     ]
    }
   ],
   "source": [
    "listCph3 = [ x **2 for x in range(5,25,3) if x <= 16]\n",
    "\n",
    "print(listCph3)"
   ]
  },
  {
   "cell_type": "code",
   "execution_count": 5,
   "metadata": {},
   "outputs": [
    {
     "name": "stdout",
     "output_type": "stream",
     "text": [
      "{0: 0, 1: 3, 2: 6, 3: 9, 4: 12, 5: 15, 6: 18, 7: 21, 8: 24}\n"
     ]
    }
   ],
   "source": [
    "dictCph1 = { x : x * 3 for x in range(9)}\n",
    "\n",
    "print(dictCph1)"
   ]
  },
  {
   "cell_type": "code",
   "execution_count": 13,
   "metadata": {},
   "outputs": [
    {
     "name": "stdout",
     "output_type": "stream",
     "text": [
      "{10, 11, 12, 13, 14, 15, 16, 17, 18}\n",
      "{4.8, 5.2, 4.0, 4.4, 6.0, 5.6, 6.4, 6.8, 7.2}\n",
      "{0.0, 1.0, 2.0, 0.5, 1.5}\n"
     ]
    }
   ],
   "source": [
    "setCph1 = { x  for x in range(10,19)}\n",
    "\n",
    "setCph2 = { x * 2 / 5 for x in range(10,19)}\n",
    "\n",
    "setCph3 = { x % 2.5 for x in range(10,19)}\n",
    "\n",
    "print(setCph1)\n",
    "\n",
    "print(setCph2)\n",
    "\n",
    "print(setCph3)"
   ]
  },
  {
   "cell_type": "code",
   "execution_count": null,
   "metadata": {},
   "outputs": [],
   "source": []
  }
 ],
 "metadata": {
  "kernelspec": {
   "display_name": "Python 3",
   "language": "python",
   "name": "python3"
  },
  "language_info": {
   "codemirror_mode": {
    "name": "ipython",
    "version": 3
   },
   "file_extension": ".py",
   "mimetype": "text/x-python",
   "name": "python",
   "nbconvert_exporter": "python",
   "pygments_lexer": "ipython3",
   "version": "3.5.5"
  }
 },
 "nbformat": 4,
 "nbformat_minor": 2
}
