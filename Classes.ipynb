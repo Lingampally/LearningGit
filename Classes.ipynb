{
 "cells": [
  {
   "cell_type": "code",
   "execution_count": 2,
   "metadata": {},
   "outputs": [
    {
     "name": "stdout",
     "output_type": "stream",
     "text": [
      "<class '__main__.ClassOne'>\n",
      "64\n"
     ]
    }
   ],
   "source": [
    "class ClassOne:\n",
    "    def __init__(self,p1,p2):\n",
    "        self.p1 = p1\n",
    "        self.p2 = p2\n",
    "    \n",
    "    def square(self,p3):\n",
    "        return (p3 ** 2)\n",
    "\n",
    "p = ClassOne(1, 2)\n",
    "print(type(p))\n",
    "print(p.square(8))"
   ]
  },
  {
   "cell_type": "code",
   "execution_count": 4,
   "metadata": {},
   "outputs": [
    {
     "name": "stdout",
     "output_type": "stream",
     "text": [
      "True\n"
     ]
    }
   ],
   "source": [
    "class ClassOne(object):\n",
    "    def __init__(self, p1, p2):\n",
    "        self.p1 = p1\n",
    "        self.p2 = p2\n",
    "    \n",
    "    def square(self, p3):\n",
    "        print(p3 ** 2)\n",
    "\n",
    "p = ClassOne(1, 2)\n",
    "\n",
    "print(hasattr(p,'p2'))"
   ]
  },
  {
   "cell_type": "code",
   "execution_count": 5,
   "metadata": {},
   "outputs": [
    {
     "name": "stdout",
     "output_type": "stream",
     "text": [
      "50\n"
     ]
    }
   ],
   "source": [
    "class ClassOne(object):\n",
    "    def __init__(self, p1, p2):\n",
    "        self.p1 = p1\n",
    "        self.p2 = p2\n",
    "    \n",
    "    def square(self, p3):\n",
    "        print(p3 ** 2)\n",
    " \n",
    "p = ClassOne(1, 2)\n",
    " \n",
    "setattr(p, 'p2', 50)\n",
    "print(getattr(p, 'p2'))"
   ]
  },
  {
   "cell_type": "code",
   "execution_count": 6,
   "metadata": {},
   "outputs": [
    {
     "name": "stdout",
     "output_type": "stream",
     "text": [
      "True\n"
     ]
    }
   ],
   "source": [
    "class ClassOne(object):\n",
    "    def __init__(self, p1, p2):\n",
    "        self.p1 = p1\n",
    "        self.p2 = p2\n",
    "    \n",
    "    def square(self, p3):\n",
    "        print(p3 ** 2)\n",
    "\n",
    "p = ClassOne(1, 2)\n",
    "\n",
    "print(isinstance(p,ClassOne))"
   ]
  },
  {
   "cell_type": "code",
   "execution_count": 7,
   "metadata": {},
   "outputs": [
    {
     "name": "stdout",
     "output_type": "stream",
     "text": [
      "450\n"
     ]
    }
   ],
   "source": [
    "class ClassOne(object):\n",
    "    def __init__(self, p1, p2):\n",
    "        self.p1 = p1\n",
    "        self.p2 = p2\n",
    "    \n",
    "    def square(self, p3):\n",
    "        print(p3 ** 2)\n",
    " \n",
    "class ClassTwo(ClassOne):\n",
    "    def times10(self, x):\n",
    "        return x * 10\n",
    "        \n",
    "obj = ClassTwo(15, 25)\n",
    " \n",
    "print(obj.times10(45))"
   ]
  },
  {
   "cell_type": "code",
   "execution_count": 8,
   "metadata": {},
   "outputs": [
    {
     "name": "stdout",
     "output_type": "stream",
     "text": [
      "True\n"
     ]
    }
   ],
   "source": [
    "class ClassOne(object):\n",
    "    def __init__(self, p1, p2):\n",
    "        self.p1 = p1\n",
    "        self.p2 = p2\n",
    "    \n",
    "    def square(self, p3):\n",
    "        print(p3 ** 2)\n",
    " \n",
    "class ClassTwo(ClassOne):\n",
    "    def times10(self, x):\n",
    "        return x * 10\n",
    "        \n",
    "print(issubclass(ClassTwo, ClassOne))"
   ]
  },
  {
   "cell_type": "code",
   "execution_count": null,
   "metadata": {},
   "outputs": [],
   "source": []
  },
  {
   "cell_type": "code",
   "execution_count": null,
   "metadata": {},
   "outputs": [],
   "source": []
  }
 ],
 "metadata": {
  "kernelspec": {
   "display_name": "Python 3",
   "language": "python",
   "name": "python3"
  },
  "language_info": {
   "codemirror_mode": {
    "name": "ipython",
    "version": 3
   },
   "file_extension": ".py",
   "mimetype": "text/x-python",
   "name": "python",
   "nbconvert_exporter": "python",
   "pygments_lexer": "ipython3",
   "version": "3.5.5"
  }
 },
 "nbformat": 4,
 "nbformat_minor": 2
}
