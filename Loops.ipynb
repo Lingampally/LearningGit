{
 "cells": [
  {
   "cell_type": "markdown",
   "metadata": {},
   "source": [
    "Write a code that will iterate over range starting at 1,not inclusing 11,in steps of 2, and for each element in range that is between 3 and 8 inclusively, multiply the range of the element with the last element in the range, otherwise print Outside!"
   ]
  },
  {
   "cell_type": "code",
   "execution_count": 1,
   "metadata": {},
   "outputs": [
    {
     "name": "stdout",
     "output_type": "stream",
     "text": [
      "Outside!\n",
      "27\n",
      "45\n",
      "63\n",
      "Outside!\n"
     ]
    }
   ],
   "source": [
    "for elem in range(1,11,2):\n",
    "    if 3 <= elem <= 8:\n",
    "        print(elem*range(1,11,2)[-1])\n",
    "    else:\n",
    "        print (\"Outside!\")"
   ]
  },
  {
   "cell_type": "markdown",
   "metadata": {},
   "source": [
    "Write a code that will iterate over range starting at 5,not inclusing 25,in steps of 5, and for each element in range that is between 10 and 21 inclusively, multiply the range of the element with the second last element in the range, For any element outside range  print Outside!,Once the range is exhanusted print \"The end!\""
   ]
  },
  {
   "cell_type": "code",
   "execution_count": 2,
   "metadata": {},
   "outputs": [
    {
     "name": "stdout",
     "output_type": "stream",
     "text": [
      "Outside!\n",
      "150\n",
      "225\n",
      "300\n",
      "The end!\n"
     ]
    }
   ],
   "source": [
    "for item in range(5,25,5):\n",
    "    if 10 <= item <= 21:\n",
    "        print(item*range(5,25,5)[-2])\n",
    "    else:\n",
    "        print(\"Outside!\")\n",
    "else:\n",
    "    print(\"The end!\")"
   ]
  },
  {
   "cell_type": "markdown",
   "metadata": {},
   "source": [
    "    write a while loop that prints the value of x times 11 while x is lessthan or equla to 11, and prints x is 10! when x is 10"
   ]
  },
  {
   "cell_type": "code",
   "execution_count": 4,
   "metadata": {},
   "outputs": [
    {
     "name": "stdout",
     "output_type": "stream",
     "text": [
      "0\n",
      "11\n",
      "22\n",
      "33\n",
      "44\n",
      "55\n",
      "66\n",
      "77\n",
      "88\n",
      "99\n",
      "x is 10!\n",
      "121\n"
     ]
    }
   ],
   "source": [
    "x=0\n",
    "while x <= 11:\n",
    "    if x == 10:\n",
    "        print(\"x is 10!\")\n",
    "    else:\n",
    "        print(x*11)\n",
    "    x = x + 1"
   ]
  },
  {
   "cell_type": "code",
   "execution_count": null,
   "metadata": {},
   "outputs": [],
   "source": []
  }
 ],
 "metadata": {
  "kernelspec": {
   "display_name": "Python 3",
   "language": "python",
   "name": "python3"
  },
  "language_info": {
   "codemirror_mode": {
    "name": "ipython",
    "version": 3
   },
   "file_extension": ".py",
   "mimetype": "text/x-python",
   "name": "python",
   "nbconvert_exporter": "python",
   "pygments_lexer": "ipython3",
   "version": "3.5.5"
  }
 },
 "nbformat": 4,
 "nbformat_minor": 2
}
